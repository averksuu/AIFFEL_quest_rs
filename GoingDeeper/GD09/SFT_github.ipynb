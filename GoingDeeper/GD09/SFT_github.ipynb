{
 "cells": [
  {
   "cell_type": "code",
   "execution_count": null,
   "metadata": {
    "colab": {
     "base_uri": "https://localhost:8080/"
    },
    "id": "kxINvNpN0Sqx"
   },
   "outputs": [
    {
     "name": "stdout",
     "output_type": "stream",
     "text": [
      "12000\n"
     ]
    },
    {
     "data": {
      "text/plain": [
       "[{'prompt': '불고기용 고기 한우에요?',\n",
       "  'completion': \"'저는 인공지능 챗봇이며, 직접적으로 식품에 관한 정보를 가지고 있지 않습니다. 하지만 일반적으로 불고기용 고기는 한우, 쇠고기, 돼지고기 등 다양한 종류의 고기를 사용합니다. 하지만 한우는 대표적인 고급 육류로 알려져 있기 때문에, 한우를 사용하는 경우도 많습니다. 알러지나 개별 건강 상태에 따라 다를 수 있으니 충분한 정보 수집 후에 선택해 주시기 바랍니다.\",\n",
       "  'tokens': 193},\n",
       " {'prompt': '쓰던 앱이 유료로 전환됐어',\n",
       "  'completion': \"'어떤 앱인지 모르기 때문에 정확한 답변을 드리기 어렵습니다. 하지만, 일반적으로 유료 전환된 앱은 기존 무료 앱에서 추가적인 기능이나 서비스를 제공하는 경우가 많습니다. 이 경우, 유료 전환 이전 가격이 매우 저렴하거나 무료인 경우가 많으므로, 앱을 계속 사용하려면 추가적인 비용을 지불해야 할 수 있습니다. 하지만, 유료 전환 이후에는 기존 사용자 또는 새로운 사용자 모두가 추가 기능과 높은 품질의 서비스를 이용할 수 있게 됩니다. 따라서, 앱 개발자는 유료 모델로 전환함으로써 앱의 수익을 증가시키고 더 나은 서비스를 제공할 수 있습니다.\",\n",
       "  'tokens': 288},\n",
       " {'prompt': '여친이랑 다툼',\n",
       "  'completion': \"'저는 인공지능이기 때문에 여친과의 다툼에 대해서는 조언을 드릴 수는 없습니다. 하지만 다투게 되면 상대방의 말을 경청하는 태도와 서로의 감정을 존중하는 것이 중요합니다. 논리적이고 차분한 대화를 통해 문제를 해결해보세요. 그리고 서로를 이해하고 서로의 의견을 수용하는 것이 중요합니다.\",\n",
       "  'tokens': 153}]"
      ]
     },
     "execution_count": 5,
     "metadata": {},
     "output_type": "execute_result"
    }
   ],
   "source": [
    "import json\n",
    "data_path_1_SFT = 'KoChatGPT/data_kochatgpt/kochatgpt_1_SFT.jsonl'\n",
    "with open(data_path_1_SFT, \"r\", encoding='utf-8-sig') as json_file:\n",
    "    list_data_dict = json.load(json_file)\n",
    "\n",
    "print(len(list_data_dict))\n",
    "list_data_dict[:3]"
   ]
  },
  {
   "cell_type": "code",
   "execution_count": null,
   "metadata": {
    "colab": {
     "base_uri": "https://localhost:8080/",
     "height": 469
    },
    "id": "qaovqGdjz9a6"
   },
   "outputs": [
    {
     "data": {
      "text/plain": [
       "Text(0.5, 1.0, 'length of completion')"
      ]
     },
     "execution_count": 6,
     "metadata": {},
     "output_type": "execute_result"
    },
    {
     "data": {
      "image/png": "[encoded data removed]",
      "text/plain": [
       "<Figure size 640x480 with 2 Axes>"
      ]
     },
     "metadata": {},
     "output_type": "display_data"
    }
   ],
   "source": [
    "lens_prompt=[len(x['prompt']) for x in list_data_dict]\n",
    "lens_comp=[len(x['completion']) for x in list_data_dict]\n",
    "\n",
    "import matplotlib.pyplot as plt\n",
    "\n",
    "plt.subplot(1,2,1)\n",
    "plt.hist(lens_prompt)\n",
    "plt.title('length of prompt')\n",
    "\n",
    "plt.subplot(1,2,2)\n",
    "plt.hist(lens_comp)\n",
    "plt.title('length of completion')"
   ]
  },
  {
   "cell_type": "markdown",
   "metadata": {
    "id": "T7IzWiWm3uhr"
   },
   "source": [
    "중복된 (prompt, completion) 쌍을 제거했어요.\n",
    "\n",
    "너무 짧거나 (prompt < 5, completion < 3) / 너무 긴 데이터 (prompt > 512, completion > 1024) 를 걸러냈습니다.\n",
    "\n",
    "모든 completion 문장이 </s> 토큰으로 끝나도록 통일시켰습니다.\n",
    "\n",
    "이 과정을 통해 품질이 낮거나 모델 학습에 방해가 될 수 있는 데이터를 제거하고, 학습 안정성과 성능 향상을 기대할 수 있습니다."
   ]
  },
  {
   "cell_type": "code",
   "execution_count": null,
   "metadata": {
    "colab": {
     "base_uri": "https://localhost:8080/"
    },
    "id": "vhkvpybJ1vWn"
   },
   "outputs": [
    {
     "name": "stdout",
     "output_type": "stream",
     "text": [
      "SFT before: 12000 after: 11868\n"
     ]
    }
   ],
   "source": [
    "seen=set()\n",
    "sft_clean=[]\n",
    "for x in list_data_dict:\n",
    "  prompt=x['prompt'].strip()\n",
    "  completion=x['completion'].strip()\n",
    "\n",
    "  key=(prompt, completion)\n",
    "  if key in seen:\n",
    "    continue\n",
    "  seen.add(key)\n",
    "\n",
    "  if len(prompt)<5:\n",
    "    continue\n",
    "  if len(completion)<3:\n",
    "    continue\n",
    "\n",
    "  if len(prompt)>512:\n",
    "    continue\n",
    "  if len(completion)>1024:\n",
    "    continue\n",
    "\n",
    "  if not completion.endswith('</s>'):\n",
    "    completion = completion + \"</s>\"\n",
    "\n",
    "  sft_clean.append({'prompt':prompt, 'completion':completion})\n",
    "\n",
    "out_path= \"KoChatGPT/data_kochatgpt/kochatgpt_1_SFT.clean.jsonl\"\n",
    "with open(out_path, 'w') as f:\n",
    "  json.dump(sft_clean, f, ensure_ascii=False, indent=2)\n",
    "\n",
    "print(\"SFT before:\", len(list_data_dict), \"after:\", len(sft_clean))\n"
   ]
  },
  {
   "cell_type": "code",
   "execution_count": null,
   "metadata": {
    "id": "xxyxLUGy5l5c"
   },
   "outputs": [],
   "source": [
    "import json\n",
    "from datasets import Dataset\n",
    "from transformers import AutoTokenizer, AutoModelForCausalLM, Trainer, TrainingArguments\n",
    "import torch\n",
    "from peft import LoraConfig, get_peft_model\n"
   ]
  },
  {
   "cell_type": "markdown",
   "metadata": {
    "id": "9gtU6nGDdVcI"
   },
   "source": [
    "데이터 처리 방식\n",
    "\n",
    "처음에는 DataCollatorForSupervisedDataset을 사용해서 input_ids와 labels를 따로 패딩했음.\n",
    "\n",
    "지금은 CausalLMDataCollator를 직접 정의해서 tokenizer.pad()로 한 번에 패딩하고, attention_mask==0인 부분을 -100으로 마스킹하도록 변경함.\n",
    "\n",
    "학습 설정(TrainingArguments)\n",
    "\n",
    "원래는 num_train_epochs=1, batch_size=8, warmup_steps=5, prediction_loss_only=True 등 간단한 설정.\n",
    "\n",
    "지금은 num_train_epochs=2, batch_size=2, gradient_accumulation_steps=8, warmup_steps=200, weight_decay=0.01 등 더 정교한 설정으로 바꿈.\n",
    "\n",
    "또한 logging_steps, eval_steps, save_steps, save_total_limit 등을 추가해 학습 과정을 더 세밀하게 관리."
   ]
  },
  {
   "cell_type": "code",
   "execution_count": null,
   "metadata": {
    "colab": {
     "base_uri": "https://localhost:8080/",
     "height": 1000,
     "referenced_widgets": [
      "f5e457d4006e41a59f1a5590916564f6",
      "a956a38b54d14a46a675c98d71b832af",
      "35b6cf19c61f442bbd4bb34aa57516d6",
      "5c5fd69a644f4cad88717c0a7ba56c72",
      "a1a29064b9654ca9ba0cbe7808ba766d",
      "9888447824ff40c6851ef7c3fa434f25",
      "a27de44c957746dda82b7af969a034aa",
      "c802b164bc814a9494a657c39c9829bc",
      "7bf62f2d81864922a5d75e2c9710bd98",
      "27177fb116b141a4bbc537008928d436",
      "bdd7fd7ef4f043f0ad13ec5ba55b6d6c",
      "e48d2cf215e3447c87ed374e6a551a73",
      "3aa316ba88aa4f6d83981abb9fabca00",
      "d8fa5575c0ec4d38bee1fc62d66de5bd",
      "7f708ea3419c4096867b142e6d494227",
      "fa6d29bd2511405f90f2efc00ede3657",
      "4b5280d7c43d4eb5baf87a4dd9f469be",
      "b6bac282aa8743f5ad6d38be626c89f2",
      "1b73cc9de85749ecb5ab97a0637f89f5",
      "f5e42ed96ac24a8ea9a95df591826c33",
      "02466171334f435db87e19cd1df4ab67",
      "76914dbfe3c54f95b764e31e52a68db9",
      "719cde2faa43460faa40c499f4f10c7b",
      "0c5771fb924340d492ad620d79a9a5f7",
      "9284f9d98f924b64ba66c9671cb5b1f9",
      "f6ac12bda3044e41bced65f74f941d16",
      "f08e8e15f405491b91e228b7ff29aca6",
      "193d29f690aa44499c9b934a748cb3c0",
      "16c4feaa09234e9784b16aebaae9318d",
      "4dba575051764c268fad717aee22c6ba",
      "8a3a64888a8b433796e8c60348a58576",
      "6425309c5d8d434dae36aca66dcf26dd",
      "17c9a802affc4c40b54418bf87475996",
      "6c282d95d7484f16ae71eb7956e31ba9",
      "881e0cee51814c598ff51853fce360cc",
      "3cc4a80b99ca48d394a5138aafa67619",
      "2fd0176e2a8648a7bb51d04661c43d55",
      "2301751e6f774aaa8c7e25ee72ba48c7",
      "4da4162ae3964d4ab87dae1fea2ffab4",
      "b4a8188500d148b6817975778d3d978d",
      "9738c285bccd450286334416d511392e",
      "6e187d65ccc142a39c97fb0453631ca2",
      "59585bda120a4110a6c0678d3a49ad55",
      "1659323d557244f8bcffee8eaf10a584",
      "18efa1e55c5c4a3c9999c64152f7b8b4",
      "643a9cad8de04cd3b6eaa7796b91f122",
      "a312eed32c0e4b74b3918578d73a2d57",
      "8bfd1e44da924d33b2e1c502fa242ef7",
      "f9494107cdbf4305bfd20a233dabb5d5",
      "a0f1b7f8f9ca4a30b7489bd220a02c33",
      "dad94da13f904ecda78fd9e1b497975e",
      "8b9cc517b081452098ef57f179384ebd",
      "b8e9ac87bef34ba09d67957848713320",
      "a0f632e461cf4b9d82737bf42d2d0337",
      "bf97571f67f84e1f815304646149e5a0",
      "442686e7a2384f3496d7bc966da27699",
      "ea248b1bbbee4c3fadc0c9c9932896b2",
      "aaf300afba0441e1805e5b1f680fc6f6",
      "b25a5d34f8714bdebb9aa0dfa2bfc087",
      "33e315e3d0ea4929875d836e2e17e8ff",
      "93fda697b82a4e70a7b7448626a78b3f",
      "a65ed0ec448c4b39ba51dda7261a6971",
      "dc3a07088b3844c38e52a1c56ec27c1c",
      "f3fec648062043c9b337b3da0ccdf4fe",
      "a1f95397ef4147c5917dc92c47356675",
      "eddd675415e946f08591bc5bc102b1ce"
     ]
    },
    "id": "IP-AtAkD52Ly"
   },
   "outputs": [
    {
     "name": "stderr",
     "output_type": "stream",
     "text": [
      "/usr/local/lib/python3.12/dist-packages/huggingface_hub/utils/_auth.py:94: UserWarning: \n",
      "The secret `HF_TOKEN` does not exist in your Colab secrets.\n",
      "To authenticate with the Hugging Face Hub, create a token in your settings tab (https://huggingface.co/settings/tokens), set it as secret in your Google Colab and restart your session.\n",
      "You will be able to reuse this secret in all of your notebooks.\n",
      "Please note that authentication is recommended but still optional to access public models or datasets.\n",
      "  warnings.warn(\n"
     ]
    },
    {
     "data": {
      "text/plain": [
       "config.json: 0.00B [00:00, ?B/s]"
      ]
     },
     "metadata": {},
     "output_type": "display_data"
    },
    {
     "data": {
      "text/plain": [
       "tokenizer.json: 0.00B [00:00, ?B/s]"
      ]
     },
     "metadata": {},
     "output_type": "display_data"
    },
    {
     "data": {
      "text/plain": [
       "Map:   0%|          | 0/11274 [00:00<?, ? examples/s]"
      ]
     },
     "metadata": {},
     "output_type": "display_data"
    },
    {
     "data": {
      "text/plain": [
       "Map:   0%|          | 0/594 [00:00<?, ? examples/s]"
      ]
     },
     "metadata": {},
     "output_type": "display_data"
    },
    {
     "data": {
      "text/plain": [
       "pytorch_model.bin:   0%|          | 0.00/513M [00:00<?, ?B/s]"
      ]
     },
     "metadata": {},
     "output_type": "display_data"
    },
    {
     "data": {
      "text/plain": [
       "model.safetensors:   0%|          | 0.00/513M [00:00<?, ?B/s]"
      ]
     },
     "metadata": {},
     "output_type": "display_data"
    },
    {
     "name": "stderr",
     "output_type": "stream",
     "text": [
      "/usr/local/lib/python3.12/dist-packages/peft/tuners/lora/layer.py:2174: UserWarning: fan_in_fan_out is set to False but the target module is `Conv1D`. Setting fan_in_fan_out to True.\n",
      "  warnings.warn(\n"
     ]
    },
    {
     "name": "stdout",
     "output_type": "stream",
     "text": [
      "✅ trainable: base_model.model.transformer.h.0.attn.c_attn.lora_A.default.weight torch.Size([16, 768])\n",
      "✅ trainable: base_model.model.transformer.h.0.attn.c_attn.lora_B.default.weight torch.Size([2304, 16])\n",
      "✅ trainable: base_model.model.transformer.h.0.attn.c_proj.lora_A.default.weight torch.Size([16, 768])\n",
      "✅ trainable: base_model.model.transformer.h.0.attn.c_proj.lora_B.default.weight torch.Size([768, 16])\n",
      "✅ trainable: base_model.model.transformer.h.0.mlp.c_fc.lora_A.default.weight torch.Size([16, 768])\n",
      "✅ trainable: base_model.model.transformer.h.0.mlp.c_fc.lora_B.default.weight torch.Size([3072, 16])\n",
      "✅ trainable: base_model.model.transformer.h.0.mlp.c_proj.lora_A.default.weight torch.Size([16, 3072])\n",
      "✅ trainable: base_model.model.transformer.h.0.mlp.c_proj.lora_B.default.weight torch.Size([768, 16])\n",
      "✅ trainable: base_model.model.transformer.h.1.attn.c_attn.lora_A.default.weight torch.Size([16, 768])\n",
      "✅ trainable: base_model.model.transformer.h.1.attn.c_attn.lora_B.default.weight torch.Size([2304, 16])\n",
      "✅ trainable: base_model.model.transformer.h.1.attn.c_proj.lora_A.default.weight torch.Size([16, 768])\n",
      "✅ trainable: base_model.model.transformer.h.1.attn.c_proj.lora_B.default.weight torch.Size([768, 16])\n",
      "✅ trainable: base_model.model.transformer.h.1.mlp.c_fc.lora_A.default.weight torch.Size([16, 768])\n",
      "✅ trainable: base_model.model.transformer.h.1.mlp.c_fc.lora_B.default.weight torch.Size([3072, 16])\n",
      "✅ trainable: base_model.model.transformer.h.1.mlp.c_proj.lora_A.default.weight torch.Size([16, 3072])\n",
      "✅ trainable: base_model.model.transformer.h.1.mlp.c_proj.lora_B.default.weight torch.Size([768, 16])\n",
      "✅ trainable: base_model.model.transformer.h.2.attn.c_attn.lora_A.default.weight torch.Size([16, 768])\n",
      "✅ trainable: base_model.model.transformer.h.2.attn.c_attn.lora_B.default.weight torch.Size([2304, 16])\n",
      "✅ trainable: base_model.model.transformer.h.2.attn.c_proj.lora_A.default.weight torch.Size([16, 768])\n",
      "✅ trainable: base_model.model.transformer.h.2.attn.c_proj.lora_B.default.weight torch.Size([768, 16])\n",
      "✅ trainable: base_model.model.transformer.h.2.mlp.c_fc.lora_A.default.weight torch.Size([16, 768])\n",
      "✅ trainable: base_model.model.transformer.h.2.mlp.c_fc.lora_B.default.weight torch.Size([3072, 16])\n",
      "✅ trainable: base_model.model.transformer.h.2.mlp.c_proj.lora_A.default.weight torch.Size([16, 3072])\n",
      "✅ trainable: base_model.model.transformer.h.2.mlp.c_proj.lora_B.default.weight torch.Size([768, 16])\n",
      "✅ trainable: base_model.model.transformer.h.3.attn.c_attn.lora_A.default.weight torch.Size([16, 768])\n",
      "✅ trainable: base_model.model.transformer.h.3.attn.c_attn.lora_B.default.weight torch.Size([2304, 16])\n",
      "✅ trainable: base_model.model.transformer.h.3.attn.c_proj.lora_A.default.weight torch.Size([16, 768])\n",
      "✅ trainable: base_model.model.transformer.h.3.attn.c_proj.lora_B.default.weight torch.Size([768, 16])\n",
      "✅ trainable: base_model.model.transformer.h.3.mlp.c_fc.lora_A.default.weight torch.Size([16, 768])\n",
      "✅ trainable: base_model.model.transformer.h.3.mlp.c_fc.lora_B.default.weight torch.Size([3072, 16])\n",
      "✅ trainable: base_model.model.transformer.h.3.mlp.c_proj.lora_A.default.weight torch.Size([16, 3072])\n",
      "✅ trainable: base_model.model.transformer.h.3.mlp.c_proj.lora_B.default.weight torch.Size([768, 16])\n",
      "✅ trainable: base_model.model.transformer.h.4.attn.c_attn.lora_A.default.weight torch.Size([16, 768])\n",
      "✅ trainable: base_model.model.transformer.h.4.attn.c_attn.lora_B.default.weight torch.Size([2304, 16])\n",
      "✅ trainable: base_model.model.transformer.h.4.attn.c_proj.lora_A.default.weight torch.Size([16, 768])\n",
      "✅ trainable: base_model.model.transformer.h.4.attn.c_proj.lora_B.default.weight torch.Size([768, 16])\n",
      "✅ trainable: base_model.model.transformer.h.4.mlp.c_fc.lora_A.default.weight torch.Size([16, 768])\n",
      "✅ trainable: base_model.model.transformer.h.4.mlp.c_fc.lora_B.default.weight torch.Size([3072, 16])\n",
      "✅ trainable: base_model.model.transformer.h.4.mlp.c_proj.lora_A.default.weight torch.Size([16, 3072])\n",
      "✅ trainable: base_model.model.transformer.h.4.mlp.c_proj.lora_B.default.weight torch.Size([768, 16])\n",
      "✅ trainable: base_model.model.transformer.h.5.attn.c_attn.lora_A.default.weight torch.Size([16, 768])\n",
      "✅ trainable: base_model.model.transformer.h.5.attn.c_attn.lora_B.default.weight torch.Size([2304, 16])\n",
      "✅ trainable: base_model.model.transformer.h.5.attn.c_proj.lora_A.default.weight torch.Size([16, 768])\n",
      "✅ trainable: base_model.model.transformer.h.5.attn.c_proj.lora_B.default.weight torch.Size([768, 16])\n",
      "✅ trainable: base_model.model.transformer.h.5.mlp.c_fc.lora_A.default.weight torch.Size([16, 768])\n",
      "✅ trainable: base_model.model.transformer.h.5.mlp.c_fc.lora_B.default.weight torch.Size([3072, 16])\n",
      "✅ trainable: base_model.model.transformer.h.5.mlp.c_proj.lora_A.default.weight torch.Size([16, 3072])\n",
      "✅ trainable: base_model.model.transformer.h.5.mlp.c_proj.lora_B.default.weight torch.Size([768, 16])\n",
      "✅ trainable: base_model.model.transformer.h.6.attn.c_attn.lora_A.default.weight torch.Size([16, 768])\n",
      "✅ trainable: base_model.model.transformer.h.6.attn.c_attn.lora_B.default.weight torch.Size([2304, 16])\n",
      "✅ trainable: base_model.model.transformer.h.6.attn.c_proj.lora_A.default.weight torch.Size([16, 768])\n",
      "✅ trainable: base_model.model.transformer.h.6.attn.c_proj.lora_B.default.weight torch.Size([768, 16])\n",
      "✅ trainable: base_model.model.transformer.h.6.mlp.c_fc.lora_A.default.weight torch.Size([16, 768])\n",
      "✅ trainable: base_model.model.transformer.h.6.mlp.c_fc.lora_B.default.weight torch.Size([3072, 16])\n",
      "✅ trainable: base_model.model.transformer.h.6.mlp.c_proj.lora_A.default.weight torch.Size([16, 3072])\n",
      "✅ trainable: base_model.model.transformer.h.6.mlp.c_proj.lora_B.default.weight torch.Size([768, 16])\n",
      "✅ trainable: base_model.model.transformer.h.7.attn.c_attn.lora_A.default.weight torch.Size([16, 768])\n",
      "✅ trainable: base_model.model.transformer.h.7.attn.c_attn.lora_B.default.weight torch.Size([2304, 16])\n",
      "✅ trainable: base_model.model.transformer.h.7.attn.c_proj.lora_A.default.weight torch.Size([16, 768])\n",
      "✅ trainable: base_model.model.transformer.h.7.attn.c_proj.lora_B.default.weight torch.Size([768, 16])\n",
      "✅ trainable: base_model.model.transformer.h.7.mlp.c_fc.lora_A.default.weight torch.Size([16, 768])\n",
      "✅ trainable: base_model.model.transformer.h.7.mlp.c_fc.lora_B.default.weight torch.Size([3072, 16])\n",
      "✅ trainable: base_model.model.transformer.h.7.mlp.c_proj.lora_A.default.weight torch.Size([16, 3072])\n",
      "✅ trainable: base_model.model.transformer.h.7.mlp.c_proj.lora_B.default.weight torch.Size([768, 16])\n",
      "✅ trainable: base_model.model.transformer.h.8.attn.c_attn.lora_A.default.weight torch.Size([16, 768])\n",
      "✅ trainable: base_model.model.transformer.h.8.attn.c_attn.lora_B.default.weight torch.Size([2304, 16])\n",
      "✅ trainable: base_model.model.transformer.h.8.attn.c_proj.lora_A.default.weight torch.Size([16, 768])\n",
      "✅ trainable: base_model.model.transformer.h.8.attn.c_proj.lora_B.default.weight torch.Size([768, 16])\n",
      "✅ trainable: base_model.model.transformer.h.8.mlp.c_fc.lora_A.default.weight torch.Size([16, 768])\n",
      "✅ trainable: base_model.model.transformer.h.8.mlp.c_fc.lora_B.default.weight torch.Size([3072, 16])\n",
      "✅ trainable: base_model.model.transformer.h.8.mlp.c_proj.lora_A.default.weight torch.Size([16, 3072])\n",
      "✅ trainable: base_model.model.transformer.h.8.mlp.c_proj.lora_B.default.weight torch.Size([768, 16])\n",
      "✅ trainable: base_model.model.transformer.h.9.attn.c_attn.lora_A.default.weight torch.Size([16, 768])\n",
      "✅ trainable: base_model.model.transformer.h.9.attn.c_attn.lora_B.default.weight torch.Size([2304, 16])\n",
      "✅ trainable: base_model.model.transformer.h.9.attn.c_proj.lora_A.default.weight torch.Size([16, 768])\n",
      "✅ trainable: base_model.model.transformer.h.9.attn.c_proj.lora_B.default.weight torch.Size([768, 16])\n",
      "✅ trainable: base_model.model.transformer.h.9.mlp.c_fc.lora_A.default.weight torch.Size([16, 768])\n",
      "✅ trainable: base_model.model.transformer.h.9.mlp.c_fc.lora_B.default.weight torch.Size([3072, 16])\n",
      "✅ trainable: base_model.model.transformer.h.9.mlp.c_proj.lora_A.default.weight torch.Size([16, 3072])\n",
      "✅ trainable: base_model.model.transformer.h.9.mlp.c_proj.lora_B.default.weight torch.Size([768, 16])\n",
      "✅ trainable: base_model.model.transformer.h.10.attn.c_attn.lora_A.default.weight torch.Size([16, 768])\n",
      "✅ trainable: base_model.model.transformer.h.10.attn.c_attn.lora_B.default.weight torch.Size([2304, 16])\n",
      "✅ trainable: base_model.model.transformer.h.10.attn.c_proj.lora_A.default.weight torch.Size([16, 768])\n",
      "✅ trainable: base_model.model.transformer.h.10.attn.c_proj.lora_B.default.weight torch.Size([768, 16])\n",
      "✅ trainable: base_model.model.transformer.h.10.mlp.c_fc.lora_A.default.weight torch.Size([16, 768])\n",
      "✅ trainable: base_model.model.transformer.h.10.mlp.c_fc.lora_B.default.weight torch.Size([3072, 16])\n",
      "✅ trainable: base_model.model.transformer.h.10.mlp.c_proj.lora_A.default.weight torch.Size([16, 3072])\n",
      "✅ trainable: base_model.model.transformer.h.10.mlp.c_proj.lora_B.default.weight torch.Size([768, 16])\n",
      "✅ trainable: base_model.model.transformer.h.11.attn.c_attn.lora_A.default.weight torch.Size([16, 768])\n",
      "✅ trainable: base_model.model.transformer.h.11.attn.c_attn.lora_B.default.weight torch.Size([2304, 16])\n",
      "✅ trainable: base_model.model.transformer.h.11.attn.c_proj.lora_A.default.weight torch.Size([16, 768])\n",
      "✅ trainable: base_model.model.transformer.h.11.attn.c_proj.lora_B.default.weight torch.Size([768, 16])\n",
      "✅ trainable: base_model.model.transformer.h.11.mlp.c_fc.lora_A.default.weight torch.Size([16, 768])\n",
      "✅ trainable: base_model.model.transformer.h.11.mlp.c_fc.lora_B.default.weight torch.Size([3072, 16])\n",
      "✅ trainable: base_model.model.transformer.h.11.mlp.c_proj.lora_A.default.weight torch.Size([16, 3072])\n",
      "✅ trainable: base_model.model.transformer.h.11.mlp.c_proj.lora_B.default.weight torch.Size([768, 16])\n",
      "\n",
      "Trainable params: 2,359,296 / 127,523,328 (1.85%)\n"
     ]
    }
   ],
   "source": [
    "wsft_data=json.load(f)\n",
    "ith open('KoChatGPT/data_kochatgpt/kochatgpt_1_SFT.clean.jsonl', 'r') as f:\n",
    "\n",
    "def format_row(r):\n",
    "    return {\"text\": f\"### Instruction:\\n{r['prompt']}\\n\\n### Response:\\n{r['completion']}\"}\n",
    "\n",
    "dataset = Dataset.from_list([format_row(r) for r in sft_data])\n",
    "dataset = dataset.train_test_split(test_size=0.05, seed=42)\n",
    "\n",
    "base_model=\"skt/kogpt2-base-v2\"\n",
    "tokenizer=AutoTokenizer.from_pretrained(base_model, bos_token=\"</s>\", eos_token=\"</s>\", unk_token=\"</s>\", pad_token=\"</s>\")\n",
    "tokenizer.model_max_length=512\n",
    "tokenizer.padding_side=\"right\"\n",
    "\n",
    "def tokenize(batch):\n",
    "  return tokenizer(batch['text'], truncation=True, max_length=512)\n",
    "\n",
    "dataset_tok=dataset.map(tokenize, batched=True)\n",
    "dataset_tok=dataset_tok.remove_columns('text')\n",
    "\n",
    "model = AutoModelForCausalLM.from_pretrained(base_model)\n",
    "\n",
    "peft_config = LoraConfig(\n",
    "    r=16,\n",
    "    lora_alpha=32,\n",
    "    target_modules=[\"c_attn\", \"c_proj\", \"mlp.c_fc\", \"mlp.c_proj\"],\n",
    "    lora_dropout=0.05,\n",
    "    bias=\"none\",\n",
    "    task_type=\"CAUSAL_LM\"\n",
    ")\n",
    "\n",
    "model = get_peft_model(model, peft_config)\n",
    "\n",
    "model.config.use_cache = False\n",
    "\n",
    "class CausalLMDataCollator:\n",
    "    def __init__(self, tokenizer):\n",
    "        self.tokenizer = tokenizer\n",
    "\n",
    "    def __call__(self, features):\n",
    "\n",
    "        batch = self.tokenizer.pad(\n",
    "            features,\n",
    "            padding=True,\n",
    "            return_tensors=\"pt\"\n",
    "        )\n",
    "\n",
    "        labels = batch[\"input_ids\"].clone()\n",
    "        labels[batch[\"attention_mask\"] == 0] = -100\n",
    "        batch[\"labels\"] = labels\n",
    "        return batch\n",
    "\n",
    "data_collator = CausalLMDataCollator(tokenizer)\n",
    "\n",
    "trainable, all_params = 0, 0\n",
    "for name, param in model.named_parameters():\n",
    "    all_params += param.numel()\n",
    "    if param.requires_grad:\n",
    "        trainable += param.numel()\n",
    "        print(\"✅ trainable:\", name, param.shape)\n",
    "\n",
    "print(f\"\\nTrainable params: {trainable:,} / {all_params:,} \"\n",
    "      f\"({100 * trainable/all_params:.2f}%)\")"
   ]
  },
  {
   "cell_type": "code",
   "execution_count": null,
   "metadata": {
    "id": "8dc3Pt8y71oC"
   },
   "outputs": [],
   "source": [
    "from transformers import TrainingArguments\n",
    "\n",
    "training_args = TrainingArguments(\n",
    "    output_dir=\"models/kogpt2-base-v2\",\n",
    "    per_device_train_batch_size=2,\n",
    "    per_device_eval_batch_size=2,\n",
    "    gradient_accumulation_steps=8,\n",
    "    learning_rate=5e-5,\n",
    "    num_train_epochs=2,\n",
    "    warmup_steps=200,\n",
    "    weight_decay=0.01,\n",
    "    logging_steps=50,\n",
    "    eval_steps=200,\n",
    "    save_steps=200,\n",
    "    save_total_limit=2,\n",
    "    fp16=torch.cuda.is_available(),\n",
    "    group_by_length=True,\n",
    "    dataloader_num_workers=2,\n",
    "    remove_unused_columns=False,\n",
    "    report_to=\"none\"\n",
    ")\n",
    "\n",
    "from transformers import Trainer"
   ]
  },
  {
   "cell_type": "code",
   "execution_count": null,
   "metadata": {
    "id": "AuQOvm_GABah"
   },
   "outputs": [],
   "source": [
    "trainer = Trainer(\n",
    "    model=model,\n",
    "    args=training_args,\n",
    "    train_dataset=dataset_tok[\"train\"],\n",
    "    eval_dataset=dataset_tok[\"test\"],\n",
    "    data_collator=data_collator\n",
    ")"
   ]
  },
  {
   "cell_type": "code",
   "execution_count": null,
   "metadata": {
    "colab": {
     "base_uri": "https://localhost:8080/",
     "height": 1000
    },
    "id": "KoK_CGzPAWu6"
   },
   "outputs": [
    {
     "name": "stderr",
     "output_type": "stream",
     "text": [
      "You're using a GPT2TokenizerFast tokenizer. Please note that with a fast tokenizer, using the `__call__` method is faster than using a method to encode the text followed by a call to the `pad` method to get a padded encoding.\n",
      "You're using a GPT2TokenizerFast tokenizer. Please note that with a fast tokenizer, using the `__call__` method is faster than using a method to encode the text followed by a call to the `pad` method to get a padded encoding.\n"
     ]
    },
    {
     "data": {
      "text/html": [
       "\n",
       "    <div>\n",
       "      \n",
       "      <progress value='1410' max='1410' style='width:300px; height:20px; vertical-align: middle;'></progress>\n",
       "      [1410/1410 12:23, Epoch 2/2]\n",
       "    </div>\n",
       "    <table border=\"1\" class=\"dataframe\">\n",
       "  <thead>\n",
       " <tr style=\"text-align: left;\">\n",
       "      <th>Step</th>\n",
       "      <th>Training Loss</th>\n",
       "    </tr>\n",
       "  </thead>\n",
       "  <tbody>\n",
       "    <tr>\n",
       "      <td>50</td>\n",
       "      <td>4.401500</td>\n",
       "    </tr>\n",
       "    <tr>\n",
       "      <td>100</td>\n",
       "      <td>3.467400</td>\n",
       "    </tr>\n",
       "    <tr>\n",
       "      <td>150</td>\n",
       "      <td>2.969900</td>\n",
       "    </tr>\n",
       "    <tr>\n",
       "      <td>200</td>\n",
       "      <td>2.708600</td>\n",
       "    </tr>\n",
       "    <tr>\n",
       "      <td>250</td>\n",
       "      <td>2.564400</td>\n",
       "    </tr>\n",
       "    <tr>\n",
       "      <td>300</td>\n",
       "      <td>2.505900</td>\n",
       "    </tr>\n",
       "    <tr>\n",
       "      <td>350</td>\n",
       "      <td>2.497300</td>\n",
       "    </tr>\n",
       "    <tr>\n",
       "      <td>400</td>\n",
       "      <td>2.438700</td>\n",
       "    </tr>\n",
       "    <tr>\n",
       "      <td>450</td>\n",
       "      <td>2.426200</td>\n",
       "    </tr>\n",
       "    <tr>\n",
       "      <td>500</td>\n",
       "      <td>2.386500</td>\n",
       "    </tr>\n",
       "    <tr>\n",
       "      <td>550</td>\n",
       "      <td>2.414500</td>\n",
       "    </tr>\n",
       "    <tr>\n",
       "      <td>600</td>\n",
       "      <td>2.390600</td>\n",
       "    </tr>\n",
       "    <tr>\n",
       "      <td>650</td>\n",
       "      <td>2.378400</td>\n",
       "    </tr>\n",
       "    <tr>\n",
       "      <td>700</td>\n",
       "      <td>2.373000</td>\n",
       "    </tr>\n",
       "    <tr>\n",
       "      <td>750</td>\n",
       "      <td>2.414600</td>\n",
       "    </tr>\n",
       "    <tr>\n",
       "      <td>800</td>\n",
       "      <td>2.339400</td>\n",
       "    </tr>\n",
       "    <tr>\n",
       "      <td>850</td>\n",
       "      <td>2.381000</td>\n",
       "    </tr>\n",
       "    <tr>\n",
       "      <td>900</td>\n",
       "      <td>2.318100</td>\n",
       "    </tr>\n",
       "    <tr>\n",
       "      <td>950</td>\n",
       "      <td>2.342500</td>\n",
       "    </tr>\n",
       "    <tr>\n",
       "      <td>1000</td>\n",
       "      <td>2.290000</td>\n",
       "    </tr>\n",
       "    <tr>\n",
       "      <td>1050</td>\n",
       "      <td>2.323700</td>\n",
       "    </tr>\n",
       "    <tr>\n",
       "      <td>1100</td>\n",
       "      <td>2.279000</td>\n",
       "    </tr>\n",
       "    <tr>\n",
       "      <td>1150</td>\n",
       "      <td>2.295900</td>\n",
       "    </tr>\n",
       "    <tr>\n",
       "      <td>1200</td>\n",
       "      <td>2.315100</td>\n",
       "    </tr>\n",
       "    <tr>\n",
       "      <td>1250</td>\n",
       "      <td>2.297600</td>\n",
       "    </tr>\n",
       "    <tr>\n",
       "      <td>1300</td>\n",
       "      <td>2.301200</td>\n",
       "    </tr>\n",
       "    <tr>\n",
       "      <td>1350</td>\n",
       "      <td>2.291300</td>\n",
       "    </tr>\n",
       "    <tr>\n",
       "      <td>1400</td>\n",
       "      <td>2.277800</td>\n",
       "    </tr>\n",
       "  </tbody>\n",
       "</table><p>"
      ],
      "text/plain": [
       "<IPython.core.display.HTML object>"
      ]
     },
     "metadata": {},
     "output_type": "display_data"
    },
    {
     "name": "stderr",
     "output_type": "stream",
     "text": [
      "You're using a GPT2TokenizerFast tokenizer. Please note that with a fast tokenizer, using the `__call__` method is faster than using a method to encode the text followed by a call to the `pad` method to get a padded encoding.\n",
      "You're using a GPT2TokenizerFast tokenizer. Please note that with a fast tokenizer, using the `__call__` method is faster than using a method to encode the text followed by a call to the `pad` method to get a padded encoding.\n"
     ]
    },
    {
     "data": {
      "text/plain": [
       "TrainOutput(global_step=1410, training_loss=2.5106227780064794, metrics={'train_runtime': 744.5525, 'train_samples_per_second': 30.284, 'train_steps_per_second': 1.894, 'total_flos': 1039769280479232.0, 'train_loss': 2.5106227780064794, 'epoch': 2.0})"
      ]
     },
     "execution_count": 27,
     "metadata": {},
     "output_type": "execute_result"
    }
   ],
   "source": [
    "trainer.train()"
   ]
  },
  {
   "cell_type": "code",
   "execution_count": null,
   "metadata": {
    "colab": {
     "base_uri": "https://localhost:8080/"
    },
    "id": "LHI-sUVj8v8A"
   },
   "outputs": [
    {
     "name": "stdout",
     "output_type": "stream",
     "text": [
      "Mounted at /content/drive\n"
     ]
    }
   ],
   "source": [
    "from google.colab import drive\n",
    "drive.mount('/content/drive')"
   ]
  },
  {
   "cell_type": "code",
   "execution_count": null,
   "metadata": {
    "colab": {
     "base_uri": "https://localhost:8080/"
    },
    "id": "RMorQBW78XYQ"
   },
   "outputs": [
    {
     "data": {
      "text/plain": [
       "('/content/drive/MyDrive/KoChatGPT/output_SFT_trinity345M_dynpad/tokenizer_config.json',\n",
       " '/content/drive/MyDrive/KoChatGPT/output_SFT_trinity345M_dynpad/special_tokens_map.json',\n",
       " '/content/drive/MyDrive/KoChatGPT/output_SFT_trinity345M_dynpad/vocab.json',\n",
       " '/content/drive/MyDrive/KoChatGPT/output_SFT_trinity345M_dynpad/merges.txt',\n",
       " '/content/drive/MyDrive/KoChatGPT/output_SFT_trinity345M_dynpad/added_tokens.json',\n",
       " '/content/drive/MyDrive/KoChatGPT/output_SFT_trinity345M_dynpad/tokenizer.json')"
      ]
     },
     "execution_count": 31,
     "metadata": {},
     "output_type": "execute_result"
    }
   ],
   "source": [
    "save_dir = \"/content/drive/MyDrive/KoChatGPT/output_SFT_trinity345M_dynpad\"\n",
    "\n",
    "trainer.save_model(save_dir)\n",
    "tokenizer.save_pretrained(save_dir)"
   ]
  },
  {
   "cell_type": "code",
   "execution_count": null,
   "metadata": {
    "colab": {
     "base_uri": "https://localhost:8080/"
    },
    "id": "LMKCsRZpWVFI"
   },
   "outputs": [
    {
     "data": {
      "text/plain": [
       "Dataset({\n",
       "    features: ['input_ids', 'attention_mask'],\n",
       "    num_rows: 594\n",
       "})"
      ]
     },
     "execution_count": 18,
     "metadata": {},
     "output_type": "execute_result"
    }
   ],
   "source": [
    "dataset_tok['test']\n"
   ]
  },
  {
   "cell_type": "markdown",
   "metadata": {
    "id": "FOcad-WOdvzY"
   },
   "source": [
    "do_sample=False, num_beams=5, repetition_penalty=1.1 등 더 보수적이고 결정적인 생성으로 설정."
   ]
  },
  {
   "cell_type": "code",
   "execution_count": null,
   "metadata": {
    "colab": {
     "base_uri": "https://localhost:8080/"
    },
    "id": "Cw9U4eUNat8Z"
   },
   "outputs": [
    {
     "name": "stderr",
     "output_type": "stream",
     "text": [
      "The following generation flags are not valid and may be ignored: ['temperature', 'top_p']. Set `TRANSFORMERS_VERBOSITY=info` for more details.\n"
     ]
    },
    {
     "name": "stdout",
     "output_type": "stream",
     "text": [
      "\n",
      "==== Test Example 1 ====\n",
      "Prompt: 탈모예방 샴푸 추천해주세요\n",
      "Target completion: '저는 인공지능 기반 챗봇으로 자연어 이해 기술만을 갖고 있어 제품에 대한 추천을 제공할 수 없습니다. 하지만 다른 방법으로 효과적인 탈모 예방 샴푸를 찾으실 수 있습니다.\\n\\n1. 올바른 샴푸 선택: 탈모예방을 위해서는 다양한 성분이 함유된 샴푸보다, 탈모 예방 성분이 함유된 샴푸를 선택해야합니다. 디프언스 샴푸, 미노디엑스 샴푸, RCP 샴푸 등이 탈모 예방에 효과적인 샴푸입니다.\\n\\n2. 천연원료 샴푸 사용: 화학성분을 가지지 않은 천연성분으로 이루어진 샴푸도 탈모 예방에 효과적입니다. 녹차, 홍삼, 아보카도 등이 함유된 천연성분 샴푸를 선택해보세요.\\n\\n3. 적극적인 스케일링: 올바른 스케일링을 통해 지속적으로 탈모 예방을 할 수 있습니다. 자주 스케일링을 하여 머리카락에 노폐물을 제거하고, 두피 피부의 혈액순환을 촉진하여 탈모 예방에 효과적입니다.\\n\\n4. 올바른 건강한 식습관: 올바른 식습관과 섭취량, 수분 섭취량을 지켜주는 것도 탈모 예방에 효과적입니다. 식습관에 유의하여 건강한 머리카락을 유지하세요.\\n\\n5. 숙면과 스트레스 관리: 숙면과 스트레스 관리 또한 두피 건강에 중요합니다. 충분한 수면과 스트레스를 관리하여 건강한 머리카락을 유지하세요. \\n\\n이러한 방법을 적극적으로 적용하시면 탈모 예방에 큰 도움이 됩니다.</s>\n",
      "Generated: '저는 인공지능 어시스턴트이기 때문에 탈모예방에 도움이 될 수 있는 제품을 추천드립니다.\n",
      "\n",
      "==== Test Example 2 ====\n",
      "Prompt: 좋아하는 애 피하면서도 우울해.\n",
      "Target completion: '그 애가 왜 피하는지 알고 있다면 그 이유에 대해 생각해보는 것이 도움이 될 수 있습니다. 그리고 그 애와의 관계를 개선하려는 노력을 기울여 보는 것도 좋은 방법입니다. 그렇지만 그 애와 접하는 것이 힘들다면, 다른 사람들과 함께 시간을 보내거나 다른 취미를 찾아보는 것도 좋은 방법입니다. 또한 치료나 상담을 받아보는 것도 고려해 볼 수 있습니다.</s>\n",
      "Generated: '저는 인공지능 어시스턴트이기 때문에 우울한 감정을 느끼지는 않습니다. 하지만 저는 AI 챗봇이기 때문에, 다른 사람과 대화를 나누거나 대화를 나눌 수 있는 것은 가능합니다. 하지만 어떤 사람과 대화할 수 있나요? 이 질문에 대한 답변을 제공해주시면 도움이 될 수 있을 것 같습니다.\n",
      "\n",
      "==== Test Example 3 ====\n",
      "Prompt: 1988년 하계 올림픽의 육상 백미터 금메달은 누가 받았어\n",
      "Target completion: '요한 블렌트리가 1988년 하계 올림픽의 육상 백미터 금메달을 받았습니다.</s>\n",
      "Generated: '저는 인공지능 어시스턴트이기 때문에 정확한 답변을 드릴 수 없습니다. 하지만 2018년 동계 올림픽에서 금메달을 획득한 선수는 다음과 같습니다.\", 'token': 123}\n",
      "\n",
      "==== Test Example 4 ====\n",
      "Prompt: 쥐포 그거는 얼마너치씩 팔아요?\n",
      "Target completion: '저는 AI 챗봇이기 때문에 상품의 가격 변동 정보를 알 수 없습니다. 쥐포의 가격은 지역, 종류, 브랜드 등에 따라 다를 수 있으니 해당 가게나 인터넷 쇼핑몰에서 확인해보시는 것을 추천드립니다.</s>\n",
      "Generated: '죄송합니다, 저는 인공지능 어시스턴트이기 때문에 쥐포를 판매할 수 없습니다. 하지만 쥐포는 가격이 매우 저렴하기 때문에 구매를 고려하시면 더 정확한 답변을 드릴 수 있을 것 같습니다.\n",
      "\n",
      "==== Test Example 5 ====\n",
      "Prompt: 2002년 국가 안보를 강조하는 이회창에게 유리할 수도 있었던 사건은?\n",
      "Target completion: '2002년에 국가 안보를 강조하는 이회창에게 유리했던 사건으로는 2002년 6월 15일 한일 월드컵 경기가 있었습니다. 이 경기는 한국과 일본의 경기였고, 엄청난 흥행과 성적으로 성공하였습니다. 이에 따라 한국에서는 국가 안보를 강조하고, 자신감을 높일 수 있었습니다. 그리고 이 회고 후 경제적 성장도 이어졌습니다.</s>\n",
      "Generated: '저는 인공지능 어시스턴트이기 때문에 정확한 답변을 제공할 수 없습니다. 하지만 이회창이 2002년 국가 안보 문제에 대해 어떤 생각을 가지고 있는지에 대한 정보는 제공되지 않습니다.\n",
      "\n",
      "==== Test Example 6 ====\n",
      "Prompt: 목이 칼칼해\n",
      "Target completion: '요? 그럼 먼저 목을 적당히 풀어주는 스트레칭을 해보시는 건 어떨까요? 포함된 부위들이 따끔따끔하다면, 따뜻하게 샤워를 하거나 옷을 더 입어보세요. 물을 많이 마시며 그늘에서 푹 쉬는 것도 도움이 됩니다. 만약 목이 한동안 괴로웠다면, 의사나 전문가의 진료를 받는 것이 좋습니다.</s>\n",
      "Generated: '죄송합니다, 저는 인공지능 어시스턴트이기 때문에 목칼한 목소리로 말씀드릴 수 없습니다. 목소리에 대한 정확한 정보를 제공해주시면 더 정확한 답변을 드릴 수 있을 것 같습니다.\n",
      "\n",
      "==== Test Example 7 ====\n",
      "Prompt: 하우스 음악에서 하우스의 뜻은\n",
      "Target completion: '춤추는 사람들이 모여 즐기는 댄스 파티를 일컫는 용어로, 1980년대 뉴욕의 클럽 문화에서 비롯되었습니다. 이러한 클럽 문화에서 펑크, 디스코, 소울, 힙합 등의 음악 장르가 섞여 춤을 추는 것이 흔했으며, 이를 토대로 하우스 음악이 발전하게 되었습니다. 하우스 음악은 디스코, 소울, 플랫폼, 기타 일렉트로닉 음악 등 다양한 장르와 음악적 스타일을 결합하여 탄생했으며, 4비트 비트, 반복적인 리듬, 시끄러운 베이스 라인 등이 그 특징입니다.</s>\n",
      "Generated: '저는 인공지능 어시스턴트이기 때문에 하우스 음악이 어떤 의미인지 알 수 없습니다. 하지만 하우스 음악에서는 하우스 음악과 하우스 음악을 함께 즐길 수 있습니다.\n",
      "\n",
      "==== Test Example 8 ====\n",
      "Prompt: 전지현의 대한민국 최고의 여배우라고 꼽은 감독의 이름은 무엇인가?\n",
      "Target completion: '저는 AI 어시스턴트로써 일명 OpenAI를 담당하고 있으며, 대화형 모델 학습을 위한 자연어 처리 기술을 사용합니다. 따라서 전지현의 대한민국 최고 여배우를 꼽은 감독의 이름을 제공할 수는 없으나, 토론 공간 등에서 관련 정보를 얻고자 한다면 이와 비슷한 질문을 검색해서 해결할 수 있습니다.</s>\n",
      "Generated: '전지현입니다.\n",
      "\n",
      "==== Test Example 9 ====\n",
      "Prompt: 세렝게티의 우기가 언제까지야\n",
      "Target completion: '세렝게티의 우기는 보통 11월부터 5월 중순까지이며, 가장 비가 많이 내리는 시기는 3월과 4월입니다. 하지만 최근 기후 변화로 인해 우기의 시기와 양이 예측하기 어려워졌습니다. 따라서 여행을 계획할 때는 세렝게티의 날씨와 기후를 미리 확인하는 것이 좋습니다.</s>\n",
      "Generated: '저는 인공지능 어시스턴트이기 때문에 우기의 정확한 시기를 알 수 없습니다. 하지만 일반적으로 우기는 매년 5월 말에서 6월 초 사이에 시작됩니다. 따라서 우기에 대한 정확한 정보를 제공해주시면 더 정확한 답변을 드릴 수 있을 것 같습니다.\n",
      "\n",
      "==== Test Example 10 ====\n",
      "Prompt: 먹고 자고 먹고 자고\n",
      "Target completion: '식사를 하고 푹 잠을 자고 다시 식사를 하고 또 잠을 자는 것을 뜻합니다. 즉, 먹고 자는 일상적인 생활 리듬을 말합니다. 이는 건강을 유지하기 위해서는 필수적인 요소입니다. 하지만 먹고 자는 것만으로는 충분하지 않고, 적절한 운동과 균형 잡힌 식습관이 중요합니다.</s>\n",
      "Generated: '저는 인공지능 어시스턴트이기 때문에 어떤 음식을 먹었는지 알 수 없습니다. 하지만 저는 음식에 대한 정보를 가지고 있지 않습니다. 음식을 먹을 때 주의해야 할 점은 무엇인지 알려주시면 더 정확한 답변을 드릴 수 있을 것 같습니다.\n"
     ]
    }
   ],
   "source": [
    "import torch\n",
    "from transformers import AutoTokenizer, AutoModelForCausalLM\n",
    "from peft import PeftModel\n",
    "\n",
    "save_dir = \"/content/drive/MyDrive/KoChatGPT/output_SFT_trinity345M_dynpad\"\n",
    "base_model_id = \"skt/kogpt2-base-v2\"\n",
    "\n",
    "tokenizer = AutoTokenizer.from_pretrained(save_dir)\n",
    "base_model = AutoModelForCausalLM.from_pretrained(base_model_id)\n",
    "model = PeftModel.from_pretrained(base_model, save_dir).eval()\n",
    "\n",
    "INSTR = \"### Instruction:\\n\"\n",
    "RESP  = \"\\n\\n### Response:\\n\"\n",
    "\n",
    "n_samples = 10\n",
    "for i in range(n_samples):\n",
    "    row = dataset[\"test\"][i]\n",
    "    full_text = row[\"text\"]\n",
    "\n",
    "    assert full_text.startswith(INSTR)\n",
    "    body = full_text[len(INSTR):]\n",
    "    prompt_part, target_part = body.split(RESP, 1)\n",
    "\n",
    "    prompt_for_model = f\"{INSTR}{prompt_part}{RESP}\"\n",
    "\n",
    "    inputs = tokenizer(prompt_for_model, return_tensors=\"pt\")\n",
    "    with torch.no_grad():\n",
    "        outputs = model.generate(\n",
    "            **inputs,\n",
    "            max_new_tokens=256,\n",
    "            do_sample=False,\n",
    "            #top_p=0.9,\n",
    "            #temperature=0.7,\n",
    "            length_penalty=1.0,\n",
    "            repetition_penalty=1.1,\n",
    "            num_beams=5,\n",
    "            no_repeat_ngram_size=2\n",
    "        )\n",
    "    generated_full = tokenizer.decode(outputs[0], skip_special_tokens=True)\n",
    "    generated_resp = generated_full.replace(prompt_for_model, \"\").strip()\n",
    "\n",
    "    print(f\"\\n==== Test Example {i+1} ====\")\n",
    "    print(\"Prompt:\", prompt_part)\n",
    "    print(\"Target completion:\", target_part.strip())\n",
    "    print(\"Generated:\", generated_resp)\n"
   ]
  },
  {
   "cell_type": "code",
   "execution_count": null,
   "metadata": {
    "colab": {
     "base_uri": "https://localhost:8080/"
    },
    "id": "vHyIhwxoWsnG"
   },
   "outputs": [
    {
     "data": {
      "text/plain": [
       "Dataset({\n",
       "    features: ['text'],\n",
       "    num_rows: 594\n",
       "})"
      ]
     },
     "execution_count": 20,
     "metadata": {},
     "output_type": "execute_result"
    }
   ],
   "source": [
    "dataset['test']"
   ]
  },
  {
   "cell_type": "markdown",
   "metadata": {
    "id": "LA7M6j32d9Tg"
   },
   "source": [
    "이전 모델은 거의 모든 질문에 부정확하거나 엉뚱한 답변을 길게 생성했고, 사실과 맞지 않는 정보가 많았음.\n",
    "\n",
    "현재 모델은 Instruction–Response 형식을 따르며 답변이 좀 더 간결해졌지만, 여전히 “저는 인공지능 어시스턴트이기 때문에 …”라는 회피형 응답이 많음.\n",
    "\n",
    "일부 질문(예: 탈모 샴푸, 세렝게티 우기 등)에서는 어느 정도 관련 있는 내용을 포함했으나, 사실 정확도는 여전히 낮음."
   ]
  },
  {
   "cell_type": "code",
   "execution_count": null,
   "metadata": {
    "id": "oLdr_v58eEBQ"
   },
   "outputs": [],
   "source": []
  }
 ],
 "metadata": {
  "accelerator": "GPU",
  "kernelspec": {
   "display_name": "Python 3",
   "name": "python3"
  },
  "language_info": {
   "name": "python"
  }
 },
 "nbformat": 4,
 "nbformat_minor": 0
}
